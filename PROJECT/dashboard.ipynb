{
 "cells": [
  {
   "cell_type": "code",
   "execution_count": 2,
   "metadata": {},
   "outputs": [],
   "source": [
    "from tkinter import *\n",
    "from tkinter import messagebox\n",
    "def dashboard():\n",
    "    window=Tk()\n",
    "    window.geometry(\"1450x750\")\n",
    "    window.title(\"Dashbaord\")\n",
    "    def quit():\n",
    "        window.destroy()\n",
    "       # messagebox.showinfo(\"status\",\"logged out successfully\")\n",
    "    window.config(bg=\"thistle2\")\n",
    "    name=Label(text=\"SALES MANAGEMENT SYSTEM\",font=(15),width=30,bg=\"olive drab2\",fg=\"tomato\").place(x=550,y=10)\n",
    "    home=Button(text=\"Settings\",font=(6),width=10,height=1,bg=\"maroon1\").place(x=20,y=10)\n",
    "    quit=Button(text=\"Sign out\",font=(6),width=10,height=1,bg=\"light grey\",command=quit).place(x=1275,y=10)\n",
    "    sd=Button(text=\"STOCK\\nDATABASE\",font=(10),width=20,height=3,bg=\"orange\").place(x=60,y=150)\n",
    "    bill=Button(text=\"BILLINGS\",font=(10),width=20,height=3,bg=\"light green\",fg=\"red\").place(x=600,y=150)\n",
    "    cusdb=Button(text=\"CUSTOMER\\nDATABASE\",font=(10),width=20,height=3,bg=\"dark olive green3\").place(x=1200,y=150)\n",
    "    invo=Button(text=\"INVOICES\",font=(10),width=20,height=3,bg=\"gold\").place(x=60,y=500)\n",
    "    rep=Button(text=\"REPORTS\",font=(10),width=20,height=3,bg=\"sky blue\").place(x=600,y=500)\n",
    "    more=Button(text=\"MORE\\nOPTIONS\",font=(10),width=20,height=3,bg=\"sienna2\").place(x=1200,y=500)\n",
    "    window.mainloop()\n",
    "dashboard()"
   ]
  },
  {
   "cell_type": "code",
   "execution_count": null,
   "metadata": {},
   "outputs": [],
   "source": []
  }
 ],
 "metadata": {
  "kernelspec": {
   "display_name": "Python 3",
   "language": "python",
   "name": "python3"
  },
  "language_info": {
   "codemirror_mode": {
    "name": "ipython",
    "version": 3
   },
   "file_extension": ".py",
   "mimetype": "text/x-python",
   "name": "python",
   "nbconvert_exporter": "python",
   "pygments_lexer": "ipython3",
   "version": "3.8.5"
  }
 },
 "nbformat": 4,
 "nbformat_minor": 4
}
