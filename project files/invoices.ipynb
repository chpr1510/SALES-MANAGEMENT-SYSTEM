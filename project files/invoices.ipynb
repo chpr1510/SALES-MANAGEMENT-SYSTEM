{
 "cells": [
  {
   "cell_type": "code",
   "execution_count": 2,
   "metadata": {},
   "outputs": [],
   "source": [
    "from tkinter import *\n",
    "from tkinter import messagebox\n",
    "from openpyxl.workbook import Workbook\n",
    "from openpyxl import load_workbook\n",
    "\n",
    "def invoices():\n",
    "    inv=Tk()\n",
    "    inv.geometry('650x650')\n",
    "    inv.title(\"INVOICES\")\n",
    "    \n",
    "    def get_products():\n",
    "        wb=Workbook()\n",
    "        wb=load_workbook(\"invoice.xlsx\")\n",
    "        ws=wb.active\n",
    "        column_a=ws['A']\n",
    "        column_b=ws['B']\n",
    "        column_c=ws['C']\n",
    "        column_d=ws['D']\n",
    "        list_a=''\n",
    "        list_b=''\n",
    "        list_c=''\n",
    "        list_d=''\n",
    "        for cell in column_a:\n",
    "            list_a=f'{list_a+str(cell.value)}\\n'\n",
    "        iddd.config(text=list_a)\n",
    "        for cell in column_b:\n",
    "            list_b=f'{list_b+str(cell.value)}\\n'\n",
    "        name.config(text=list_b)\n",
    "        for cell in column_c:\n",
    "            list_c=f'{list_c+str(cell.value)}\\n'\n",
    "        quan.config(text=list_c)\n",
    "        for cell in column_d:\n",
    "            list_d=f'{list_d+str(cell.value)}\\n'\n",
    "        cost.config(text=list_d)   \n",
    "        \n",
    "    iddd=Label(inv,width=20,height=50)\n",
    "    iddd.place(x=10,y=50)\n",
    "    name=Label(inv,width=25,height=50)\n",
    "    name.place(x=130,y=50)\n",
    "    quan=Label(inv,width=20,height=50)\n",
    "    quan.place(x=290,y=50)\n",
    "    cost=Label(inv,width=20,height=50)\n",
    "    cost.place(x=420,y=50)\n",
    "    \n",
    "    def quit():\n",
    "        inv.destroy()\n",
    "    \n",
    "    home=Button(inv,text='HOME',width=13,command=quit,bg='pink').place(x=530,y=10)\n",
    "    view=Button(inv,text='View',width=13,command=get_products,bg=\"gold\").place(x=10,y=50)\n",
    "    exp=Button(inv,text='Export',width=13,bg='#f64b3c').place(x=160,y=50)\n",
    "    pri=Button(inv,text='Print',width=13,bg='#7fcd91').place(x=310,y=50)\n",
    "    inv.mainloop()\n",
    "invoices()"
   ]
  },
  {
   "cell_type": "code",
   "execution_count": null,
   "metadata": {},
   "outputs": [],
   "source": []
  }
 ],
 "metadata": {
  "kernelspec": {
   "display_name": "Python 3",
   "language": "python",
   "name": "python3"
  },
  "language_info": {
   "codemirror_mode": {
    "name": "ipython",
    "version": 3
   },
   "file_extension": ".py",
   "mimetype": "text/x-python",
   "name": "python",
   "nbconvert_exporter": "python",
   "pygments_lexer": "ipython3",
   "version": "3.8.5"
  }
 },
 "nbformat": 4,
 "nbformat_minor": 4
}
