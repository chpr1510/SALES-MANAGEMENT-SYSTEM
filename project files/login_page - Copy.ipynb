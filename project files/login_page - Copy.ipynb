{
 "cells": [
  {
   "cell_type": "code",
   "execution_count": 4,
   "metadata": {},
   "outputs": [],
   "source": []
  },
  {
   "cell_type": "code",
   "execution_count": 6,
   "metadata": {},
   "outputs": [],
   "source": [
    "from tkinter import *\n",
    "window=Tk()\n",
    "\n",
    "window.title(\"Login\")\n",
    "window.geometry(\"1450x750\")\n",
    "window.config(bg=\"#faf3e0\")\n",
    "def con(a):\n",
    "    a.config(bg=\"#faf3e0\")\n",
    "def b(j):\n",
    "    j.config(bg=\"white\")\n",
    "login=Label(window,text=\"SALES MANAGEMENT SYSTEM\",font=(20),width=35)\n",
    "login.place(x=525,y=180)\n",
    "login.config(bg=\"#eabf9f\")\n",
    "\n",
    "user=Label(window,text=\"Username\",font=(1))\n",
    "user.place(x=560,y=220,width=120)\n",
    "con(user)\n",
    "\n",
    "pw=Label(window,text=\"Password\",font=(1))\n",
    "pw.place(x=560,y=250,width=120)\n",
    "con(pw)\n",
    "\n",
    "u=Entry(window,width=50)\n",
    "u.place(x=670,y=230,width=120,height=20)\n",
    "b(u)\n",
    "p=Entry(window,show=\"*\",width=50)\n",
    "p.place(x=670,y=255,width=120,height=20)\n",
    "b(p)\n",
    "\n",
    "log=Button(text=\"Login\",font=(0.5),command=dashboard)\n",
    "log.place(x=650,y=290,width=80,height=25)\n",
    "log.config(bg=\"#f4d160\")\n",
    "\n",
    "don=Label(window,text=\"Don't have an account?\",font=(0.65))\n",
    "don.place(x=510,y=320,width=300)\n",
    "con(don)\n",
    "\n",
    "sp=Button(window,text=\"sign up\",font=(\"bold\"),width=60)\n",
    "sp.place(x=770,y=320,width=70,height=28)\n",
    "sp.config(bg=\"#99bbad\",fg=\"purple\")\n",
    "\n",
    "\n",
    "window.mainloop()"
   ]
  },
  {
   "cell_type": "code",
   "execution_count": null,
   "metadata": {},
   "outputs": [],
   "source": []
  },
  {
   "cell_type": "code",
   "execution_count": null,
   "metadata": {},
   "outputs": [],
   "source": []
  }
 ],
 "metadata": {
  "kernelspec": {
   "display_name": "Python 3",
   "language": "python",
   "name": "python3"
  },
  "language_info": {
   "codemirror_mode": {
    "name": "ipython",
    "version": 3
   },
   "file_extension": ".py",
   "mimetype": "text/x-python",
   "name": "python",
   "nbconvert_exporter": "python",
   "pygments_lexer": "ipython3",
   "version": "3.8.5"
  }
 },
 "nbformat": 4,
 "nbformat_minor": 4
}
