{
 "cells": [
  {
   "cell_type": "code",
   "execution_count": 1,
   "metadata": {},
   "outputs": [],
   "source": [
    "from tkinter import *\n",
    "from tkinter import messagebox as msg\n",
    "def moreopt():\n",
    "    more=Tk()\n",
    "    more.geometry(\"500x600\")\n",
    "    m=Label(more,text=\"MORE OPTIONS\",font=(\"bold\",20),fg=\"purple\",bg=\"light pink\").place(x=10,y=0)\n",
    "    def contact():\n",
    "        \n",
    "        m=msg.showinfo(\"contact details\",\"ch8254@srmist.edu.in\\nds7289@srmist.edu.in\\ncr5827@srmist.edu.in\")\n",
    "        \n",
    "    cu=Button(more,text=\"Contact us\",width=10,command=contact,bg=\"green\").place(x=30,y=100)\n",
    "    fed=Scale(more,label=\"Rate us\",from_=0, to=10,orient=HORIZONTAL,length=400,showvalue=1,tickinterval=1, resolution=0)\n",
    "    fed.place(x=30,y=150)\n",
    "    def thank():\n",
    "        m=msg.showinfo(\"\",\"Thanks for rating us...\")\n",
    "        more.destroy()\n",
    "        \n",
    "    submit=Button(more,text=\"Submit\",bg=\"red\",command=thank).place(x=200,y=300)\n",
    "    more.mainloop()\n",
    "moreopt()"
   ]
  },
  {
   "cell_type": "code",
   "execution_count": null,
   "metadata": {},
   "outputs": [],
   "source": []
  }
 ],
 "metadata": {
  "kernelspec": {
   "display_name": "Python 3",
   "language": "python",
   "name": "python3"
  },
  "language_info": {
   "codemirror_mode": {
    "name": "ipython",
    "version": 3
   },
   "file_extension": ".py",
   "mimetype": "text/x-python",
   "name": "python",
   "nbconvert_exporter": "python",
   "pygments_lexer": "ipython3",
   "version": "3.8.5"
  }
 },
 "nbformat": 4,
 "nbformat_minor": 4
}
